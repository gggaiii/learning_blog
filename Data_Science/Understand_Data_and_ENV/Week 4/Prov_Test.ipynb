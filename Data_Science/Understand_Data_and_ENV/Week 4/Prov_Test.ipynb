{
 "cells": [
  {
   "cell_type": "code",
   "execution_count": 16,
   "metadata": {},
   "outputs": [],
   "source": [
    "from prov.model import ProvDocument"
   ]
  },
  {
   "cell_type": "code",
   "execution_count": 17,
   "metadata": {},
   "outputs": [],
   "source": [
    "# Create a new provenance document\n",
    "d1 = ProvDocument()  # d1 is now an empty provenance document"
   ]
  },
  {
   "cell_type": "code",
   "execution_count": 18,
   "metadata": {},
   "outputs": [
    {
     "data": {
      "text/plain": [
       "<Namespace: bk {http://www.provbook.org/ns/#}>"
      ]
     },
     "execution_count": 18,
     "metadata": {},
     "output_type": "execute_result"
    }
   ],
   "source": [
    "# Declaring namespaces for various prefixes used in the example\n",
    "d1.add_namespace('now', 'http://www.provbook.org/nownews/')\n",
    "d1.add_namespace('nowpeople', 'http://www.provbook.org/nownews/people/')\n",
    "d1.add_namespace('bk', 'http://www.provbook.org/ns/#')"
   ]
  },
  {
   "cell_type": "code",
   "execution_count": 19,
   "metadata": {},
   "outputs": [
    {
     "data": {
      "text/plain": [
       "<ProvAgent: nowpeople:Bob>"
      ]
     },
     "execution_count": 19,
     "metadata": {},
     "output_type": "execute_result"
    }
   ],
   "source": [
    "# Entity: now:employment-article-v1.html\n",
    "e1 = d1.entity('now:employment-article-v1.html')\n",
    "# Agent: nowpeople:Bob\n",
    "d1.agent('nowpeople:Bob')"
   ]
  },
  {
   "cell_type": "code",
   "execution_count": 20,
   "metadata": {},
   "outputs": [
    {
     "data": {
      "text/plain": [
       "<ProvAttribution: (now:employment-article-v1.html, nowpeople:Bob)>"
      ]
     },
     "execution_count": 20,
     "metadata": {},
     "output_type": "execute_result"
    }
   ],
   "source": [
    "# Attributing the article to the agent\n",
    "d1.wasAttributedTo(e1, 'nowpeople:Bob')"
   ]
  },
  {
   "cell_type": "code",
   "execution_count": 21,
   "metadata": {},
   "outputs": [
    {
     "name": "stdout",
     "output_type": "stream",
     "text": [
      "document\n",
      "  prefix now <http://www.provbook.org/nownews/>\n",
      "  prefix nowpeople <http://www.provbook.org/nownews/people/>\n",
      "  prefix bk <http://www.provbook.org/ns/#>\n",
      "  \n",
      "  entity(now:employment-article-v1.html)\n",
      "  agent(nowpeople:Bob)\n",
      "  wasAttributedTo(now:employment-article-v1.html, nowpeople:Bob)\n",
      "endDocument\n"
     ]
    }
   ],
   "source": [
    "# What we have so far (in PROV-N)\n",
    "print(d1.get_provn())"
   ]
  },
  {
   "cell_type": "code",
   "execution_count": 22,
   "metadata": {},
   "outputs": [
    {
     "data": {
      "text/plain": [
       "<ProvDerivation: (now:employment-article-v1.html, govftp:oesm11st.zip)>"
      ]
     },
     "execution_count": 22,
     "metadata": {},
     "output_type": "execute_result"
    }
   ],
   "source": [
    "# add more namespace declarations\n",
    "d1.add_namespace('govftp', 'ftp://ftp.bls.gov/pub/special.requests/oes/')\n",
    "d1.add_namespace('void', 'http://vocab.deri.ie/void#')\n",
    "\n",
    "# 'now:employment-article-v1.html' was derived from at dataset at govftp\n",
    "d1.entity('govftp:oesm11st.zip', {'prov:label': 'employment-stats-2011', 'prov:type': 'void:Dataset'})\n",
    "d1.wasDerivedFrom('now:employment-article-v1.html', 'govftp:oesm11st.zip')"
   ]
  },
  {
   "cell_type": "code",
   "execution_count": 23,
   "metadata": {},
   "outputs": [
    {
     "name": "stdout",
     "output_type": "stream",
     "text": [
      "document\n",
      "  prefix now <http://www.provbook.org/nownews/>\n",
      "  prefix nowpeople <http://www.provbook.org/nownews/people/>\n",
      "  prefix bk <http://www.provbook.org/ns/#>\n",
      "  prefix govftp <ftp://ftp.bls.gov/pub/special.requests/oes/>\n",
      "  prefix void <http://vocab.deri.ie/void#>\n",
      "  \n",
      "  entity(now:employment-article-v1.html)\n",
      "  agent(nowpeople:Bob)\n",
      "  wasAttributedTo(now:employment-article-v1.html, nowpeople:Bob)\n",
      "  entity(govftp:oesm11st.zip, [prov:label=\"employment-stats-2011\", prov:type=\"void:Dataset\"])\n",
      "  wasDerivedFrom(now:employment-article-v1.html, govftp:oesm11st.zip, -, -, -)\n",
      "endDocument\n"
     ]
    }
   ],
   "source": [
    "print(d1.get_provn())"
   ]
  },
  {
   "cell_type": "code",
   "execution_count": 24,
   "metadata": {},
   "outputs": [
    {
     "data": {
      "text/plain": [
       "<ProvActivity: is:writeArticle>"
      ]
     },
     "execution_count": 24,
     "metadata": {},
     "output_type": "execute_result"
    }
   ],
   "source": [
    "# Adding an activity\n",
    "d1.add_namespace('is', 'http://www.provbook.org/nownews/is/#')\n",
    "d1.activity('is:writeArticle')"
   ]
  },
  {
   "cell_type": "code",
   "execution_count": 25,
   "metadata": {},
   "outputs": [
    {
     "data": {
      "text/plain": [
       "<ProvGeneration: (now:employment-article-v1.html, is:writeArticle)>"
      ]
     },
     "execution_count": 25,
     "metadata": {},
     "output_type": "execute_result"
    }
   ],
   "source": [
    "# Usage and Generation\n",
    "d1.used('is:writeArticle', 'govftp:oesm11st.zip')\n",
    "d1.wasGeneratedBy('now:employment-article-v1.html', 'is:writeArticle')"
   ]
  },
  {
   "cell_type": "code",
   "execution_count": 26,
   "metadata": {},
   "outputs": [],
   "source": [
    "# visualize the graph\n",
    "from prov.dot import prov_to_dot\n",
    "dot = prov_to_dot(d1)\n",
    "# dot.write_png('article-prov.png')"
   ]
  },
  {
   "cell_type": "code",
   "execution_count": 27,
   "metadata": {},
   "outputs": [],
   "source": [
    "dot.write_png('article-prov.png')"
   ]
  },
  {
   "cell_type": "code",
   "execution_count": null,
   "metadata": {},
   "outputs": [],
   "source": []
  }
 ],
 "metadata": {
  "kernelspec": {
   "display_name": "Python 3",
   "language": "python",
   "name": "python3"
  },
  "language_info": {
   "codemirror_mode": {
    "name": "ipython",
    "version": 3
   },
   "file_extension": ".py",
   "mimetype": "text/x-python",
   "name": "python",
   "nbconvert_exporter": "python",
   "pygments_lexer": "ipython3",
   "version": "3.12.4"
  }
 },
 "nbformat": 4,
 "nbformat_minor": 2
}
