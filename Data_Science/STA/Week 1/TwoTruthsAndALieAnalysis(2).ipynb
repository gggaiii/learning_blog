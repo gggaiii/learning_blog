{
 "cells": [
  {
   "cell_type": "markdown",
   "id": "c2d0fdb3-c515-420f-a03d-b1a8942a0d19",
   "metadata": {},
   "source": [
    "# Two Truths and a Lie"
   ]
  },
  {
   "cell_type": "markdown",
   "id": "b9662046-8733-4612-86dc-d2517ec37dcc",
   "metadata": {},
   "source": [
    "This notebook does some simple data analysis on results from Gelman's [Two Truths and a Lie](http://www.stat.columbia.edu/~gelman/research/published/truths_paper.pdf) (TTaaL) exercise."
   ]
  },
  {
   "cell_type": "code",
   "execution_count": 5,
   "id": "6f91b1e6-9a41-4fe9-af63-65475841002f",
   "metadata": {},
   "outputs": [],
   "source": [
    "# Import all the things\n",
    "import numpy as np\n",
    "import pandas as pd\n",
    "import matplotlib.pyplot as plt"
   ]
  },
  {
   "cell_type": "markdown",
   "id": "40f0df2e-8a13-4822-899c-eb2debb25eb2",
   "metadata": {},
   "source": [
    "### Read the data"
   ]
  },
  {
   "cell_type": "markdown",
   "id": "be754ad4-711b-4230-b7c4-9c90bfdd4060",
   "metadata": {},
   "source": [
    "We get the data from Google in the form of a spreadsheet."
   ]
  },
  {
   "cell_type": "code",
   "execution_count": 6,
   "id": "46cdaa4b-d906-41a2-9f97-1b57e21daa8e",
   "metadata": {},
   "outputs": [
    {
     "data": {
      "text/html": [
       "<div>\n",
       "<style scoped>\n",
       "    .dataframe tbody tr th:only-of-type {\n",
       "        vertical-align: middle;\n",
       "    }\n",
       "\n",
       "    .dataframe tbody tr th {\n",
       "        vertical-align: top;\n",
       "    }\n",
       "\n",
       "    .dataframe thead th {\n",
       "        text-align: right;\n",
       "    }\n",
       "</style>\n",
       "<table border=\"1\" class=\"dataframe\">\n",
       "  <thead>\n",
       "    <tr style=\"text-align: right;\">\n",
       "      <th></th>\n",
       "      <th>Timestamp</th>\n",
       "      <th>Level of certainty about your guess.</th>\n",
       "      <th>Outcome</th>\n",
       "    </tr>\n",
       "  </thead>\n",
       "  <tbody>\n",
       "    <tr>\n",
       "      <th>0</th>\n",
       "      <td>9/28/2023 9:23:34</td>\n",
       "      <td>6</td>\n",
       "      <td>Correct</td>\n",
       "    </tr>\n",
       "    <tr>\n",
       "      <th>1</th>\n",
       "      <td>9/28/2023 9:23:59</td>\n",
       "      <td>8</td>\n",
       "      <td>Incorrect</td>\n",
       "    </tr>\n",
       "    <tr>\n",
       "      <th>2</th>\n",
       "      <td>9/28/2023 9:24:42</td>\n",
       "      <td>7</td>\n",
       "      <td>Correct</td>\n",
       "    </tr>\n",
       "    <tr>\n",
       "      <th>3</th>\n",
       "      <td>9/28/2023 9:24:44</td>\n",
       "      <td>7</td>\n",
       "      <td>Incorrect</td>\n",
       "    </tr>\n",
       "    <tr>\n",
       "      <th>4</th>\n",
       "      <td>9/28/2023 9:24:47</td>\n",
       "      <td>5</td>\n",
       "      <td>Correct</td>\n",
       "    </tr>\n",
       "  </tbody>\n",
       "</table>\n",
       "</div>"
      ],
      "text/plain": [
       "           Timestamp  Level of certainty about your guess.    Outcome\n",
       "0  9/28/2023 9:23:34                                     6    Correct\n",
       "1  9/28/2023 9:23:59                                     8  Incorrect\n",
       "2  9/28/2023 9:24:42                                     7    Correct\n",
       "3  9/28/2023 9:24:44                                     7  Incorrect\n",
       "4  9/28/2023 9:24:47                                     5    Correct"
      ]
     },
     "execution_count": 6,
     "metadata": {},
     "output_type": "execute_result"
    }
   ],
   "source": [
    "TTaaL_df = pd.read_csv( \"Two truths and a lie 2023.csv\" )\n",
    "TTaaL_df.head()"
   ]
  },
  {
   "cell_type": "markdown",
   "id": "102f53ec-816b-406d-abe4-70126927ce67",
   "metadata": {},
   "source": [
    "### Then plot it"
   ]
  },
  {
   "cell_type": "markdown",
   "id": "92ffa7f2-a659-42c2-9adb-abba563f43b4",
   "metadata": {},
   "source": [
    "We add a small random displacement to the certainty scores, just so the points don't all land on top of each other."
   ]
  },
  {
   "cell_type": "code",
   "execution_count": 7,
   "id": "cbe996ab-61e2-4713-a04e-1e068d6e7407",
   "metadata": {},
   "outputs": [
    {
     "data": {
      "text/plain": [
       "array([1, 0, 1, 0, 1, 1, 0, 1, 1, 1, 0, 1, 0, 1, 0, 1, 0, 1, 1, 0, 1, 1,\n",
       "       0, 0, 0, 1, 0, 0, 0, 0, 0, 0, 1, 1, 0, 0, 1, 0, 1, 1, 1, 0, 0, 1,\n",
       "       0, 0, 0, 0, 1, 0, 1, 1, 1, 0, 0, 1, 0, 0, 0, 0, 1, 0, 0, 1, 0, 1,\n",
       "       0, 0, 1, 0, 0, 0, 0, 1, 1, 1, 1, 0, 0, 1, 0, 0, 1, 1, 1, 0, 1, 0,\n",
       "       1, 1, 0, 0, 0, 0, 1, 0, 0, 1, 1, 0, 0, 0, 0, 1, 1, 1, 1, 1, 1, 0,\n",
       "       0, 0, 0, 0, 1, 1, 0, 0, 0, 1, 0, 1, 0, 0, 0, 1, 0, 0, 0])"
      ]
     },
     "execution_count": 7,
     "metadata": {},
     "output_type": "execute_result"
    }
   ],
   "source": [
    "# Get the data in convenient forms\n",
    "certainties = TTaaL_df[\"Level of certainty about your guess.\"].to_numpy()\n",
    "\n",
    "outcomes = np.where( TTaaL_df[\"Outcome\"] == \"Correct\", 1, 0 )\n",
    "outcomes"
   ]
  },
  {
   "cell_type": "code",
   "execution_count": 8,
   "id": "8ec830ec-b1c8-4739-bbbc-9f44dbcbd727",
   "metadata": {},
   "outputs": [
    {
     "data": {
      "image/png": "[encoded data removed]",
      "text/plain": [
       "<Figure size 1000x500 with 1 Axes>"
      ]
     },
     "metadata": {},
     "output_type": "display_data"
    }
   ],
   "source": [
    "# Generate the small random offsets\n",
    "maxOffsetX = 0.25\n",
    "xJitter = np.random.uniform( low=-maxOffsetX, high=maxOffsetX, size=len( certainties ) )\n",
    "\n",
    "maxOffsetY = 0.05\n",
    "yJitter = np.random.uniform( low=-maxOffsetY, high=maxOffsetY, size=len( outcomes ) )\n",
    "\n",
    "# Now plot those puppies\n",
    "ttaal_fig = plt.figure(figsize=[10,5]) # Makes the figure wider\n",
    "plt.scatter( certainties + xJitter, outcomes + yJitter, s=4, color=\"blue\" ) # puts dots at the points\n",
    "plt.title('Two Truths and a Lie: 28 Sept. 2023')\n",
    "plt.xlabel('Level of Certainty')\n",
    "plt.ylabel('Outcome')\n",
    "plt.yticks( ticks=[0.0, 1.0], labels=[ 'Incorrect', 'Correct' ] )\n",
    "\n",
    "# Set the aspect ratio and the range of the y axis\n",
    "plt.ylim( -0.25, 1.25 )\n",
    "ax = plt.gca()\n",
    "ax.set_aspect( 1.5 )\n",
    "\n",
    "# Save the plot to a file, then display it here\n",
    "plt.savefig( \"TrueTwoTruthsAndALie_Sep23.pdf\" )\n",
    "plt.show() "
   ]
  },
  {
   "cell_type": "code",
   "execution_count": null,
   "id": "8fad8946-138f-44a5-a677-abe88cf5adcf",
   "metadata": {},
   "outputs": [],
   "source": []
  }
 ],
 "metadata": {
  "kernelspec": {
   "display_name": "Python 3 (ipykernel)",
   "language": "python",
   "name": "python3"
  },
  "language_info": {
   "codemirror_mode": {
    "name": "ipython",
    "version": 3
   },
   "file_extension": ".py",
   "mimetype": "text/x-python",
   "name": "python",
   "nbconvert_exporter": "python",
   "pygments_lexer": "ipython3",
   "version": "3.9.15"
  }
 },
 "nbformat": 4,
 "nbformat_minor": 5
}
