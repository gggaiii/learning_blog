{
 "cells": [
  {
   "cell_type": "markdown",
   "metadata": {},
   "source": [
    "# Solutions to the Background Quiz"
   ]
  },
  {
   "cell_type": "code",
   "execution_count": 1,
   "metadata": {},
   "outputs": [],
   "source": [
    "import math # for sqrt()\n",
    "import numpy as np"
   ]
  },
  {
   "cell_type": "markdown",
   "metadata": {},
   "source": [
    "### Probability"
   ]
  },
  {
   "cell_type": "markdown",
   "metadata": {},
   "source": [
    "Store the life table in an array so that `lifeTable[j]` is the number of men who survive to `j*10` years of age."
   ]
  },
  {
   "cell_type": "code",
   "execution_count": 2,
   "metadata": {},
   "outputs": [],
   "source": [
    "lifeTable = np.array([1000, 959, 952, 938, 920, 876, 758, 524, 211, 22, 0])"
   ]
  },
  {
   "cell_type": "code",
   "execution_count": 3,
   "metadata": {},
   "outputs": [
    {
     "name": "stdout",
     "output_type": "stream",
     "text": [
      "0.92\n"
     ]
    }
   ],
   "source": [
    "# (1) P( newborn lives to 40)\n",
    "q1Prob = lifeTable[4] / lifeTable[0]\n",
    "print( q1Prob )"
   ]
  },
  {
   "cell_type": "code",
   "execution_count": 4,
   "metadata": {},
   "outputs": [
    {
     "name": "stdout",
     "output_type": "stream",
     "text": [
      "[ 41   7  14  18  44 118 234 313 189  22]\n",
      "0.014\n"
     ]
    }
   ],
   "source": [
    "# (2) P( newborn will die in 20's)\n",
    "# Begin by computing the number who die in each decade\n",
    "deathsPerDecade = lifeTable[0:10] - lifeTable[1:11]\n",
    "print(deathsPerDecade)\n",
    "\n",
    "# Now compute the probability requested\n",
    "q2Prob = deathsPerDecade[2] / lifeTable[0]\n",
    "print( q2Prob )"
   ]
  },
  {
   "cell_type": "code",
   "execution_count": 5,
   "metadata": {},
   "outputs": [
    {
     "name": "stdout",
     "output_type": "stream",
     "text": [
      "0.2408675799086758\n"
     ]
    }
   ],
   "source": [
    "# (3) P( man libes to 80 | he is 50 )\n",
    "q3Prob = lifeTable[8] / lifeTable[5]\n",
    "print( q3Prob )"
   ]
  },
  {
   "cell_type": "code",
   "execution_count": 6,
   "metadata": {},
   "outputs": [
    {
     "name": "stdout",
     "output_type": "stream",
     "text": [
      "4.5\n",
      "9.0\n"
     ]
    }
   ],
   "source": [
    "# (4) Expected number of points when rolling a weighted die\n",
    "dieProbs = [1/10, 1/10, 1/10, 1/10, 1/10, 1/2]\n",
    "oneRollExpectation = 0 \n",
    "for j in range(0,6):\n",
    "    oneRollExpectation = oneRollExpectation + (j+1)*dieProbs[j]\n",
    "    \n",
    "print( oneRollExpectation )\n",
    "twoRollExpectation = 2 * oneRollExpectation\n",
    "print(twoRollExpectation )"
   ]
  },
  {
   "cell_type": "code",
   "execution_count": 7,
   "metadata": {},
   "outputs": [
    {
     "name": "stdout",
     "output_type": "stream",
     "text": [
      "0.20479999999999998\n",
      "0.2048\n"
     ]
    }
   ],
   "source": [
    "# (5) P( group of five agriculture students includes two men)\n",
    "from scipy.stats import binom # use available packages\n",
    "print( binom.pmf( 2, 5, 0.2 ) ) # pmf means \"probability mass function\"\n",
    "print( 128 / 625 ) # the exact result"
   ]
  },
  {
   "cell_type": "code",
   "execution_count": 8,
   "metadata": {},
   "outputs": [
    {
     "name": "stdout",
     "output_type": "stream",
     "text": [
      "0.16666666666666669 0.8333333333333334\n"
     ]
    }
   ],
   "source": [
    "# (6) Bayes at a burger joint\n",
    "pAshaComesIn = 1/2\n",
    "pBobComesIn = 1/2\n",
    "\n",
    "pBurgerGivenAsha = 1/5 \n",
    "pBurgerGivenBob = 1\n",
    "\n",
    "pBurger = (pBurgerGivenAsha * pAshaComesIn) + (pBurgerGivenBob * pBobComesIn)\n",
    "\n",
    "pAshaGivenBurger = (pBurgerGivenAsha * pAshaComesIn) / pBurger\n",
    "pBobGivenBurger = (pBurgerGivenBob * pBobComesIn) / pBurger\n",
    "print( pAshaGivenBurger, pBobGivenBurger)"
   ]
  },
  {
   "cell_type": "markdown",
   "metadata": {},
   "source": [
    "### Linear Algebra"
   ]
  },
  {
   "cell_type": "code",
   "execution_count": 9,
   "metadata": {},
   "outputs": [],
   "source": [
    "# Build all the vectors and matrices\n",
    "u = np.array([[2],[3],[1]])\n",
    "v = np.array([[5],[1],[3]])\n",
    "w = np.array([[4],[4]])\n",
    "L = np.array([[2,0,4],[5,3,0],[1,1,1]])\n",
    "M = np.array([[4,1],[4,2],[1,3]])\n",
    "R = np.array([[1,0.5],[0.5,1]])"
   ]
  },
  {
   "cell_type": "markdown",
   "metadata": {},
   "source": [
    "The transpose of a vector *v* is written `v.T`, while the matrix product is written with an `@`."
   ]
  },
  {
   "cell_type": "code",
   "execution_count": 10,
   "metadata": {},
   "outputs": [
    {
     "ename": "ValueError",
     "evalue": "matmul: Input operand 1 has a mismatch in its core dimension 0, with gufunc signature (n?,k),(k,m?)->(n?,m?) (size 2 is different from 3)",
     "output_type": "error",
     "traceback": [
      "\u001b[0;31m---------------------------------------------------------------------------\u001b[0m",
      "\u001b[0;31mValueError\u001b[0m                                Traceback (most recent call last)",
      "\u001b[0;32m<ipython-input-10-f126e19c2bff>\u001b[0m in \u001b[0;36m<module>\u001b[0;34m\u001b[0m\n\u001b[1;32m      1\u001b[0m \u001b[0;31m# (11)\u001b[0m\u001b[0;34m\u001b[0m\u001b[0;34m\u001b[0m\u001b[0;34m\u001b[0m\u001b[0m\n\u001b[0;32m----> 2\u001b[0;31m \u001b[0;34m(\u001b[0m\u001b[0mv\u001b[0m\u001b[0;34m.\u001b[0m\u001b[0mT\u001b[0m\u001b[0;34m)\u001b[0m\u001b[0;34m@\u001b[0m\u001b[0mw\u001b[0m\u001b[0;34m\u001b[0m\u001b[0;34m\u001b[0m\u001b[0m\n\u001b[0m",
      "\u001b[0;31mValueError\u001b[0m: matmul: Input operand 1 has a mismatch in its core dimension 0, with gufunc signature (n?,k),(k,m?)->(n?,m?) (size 2 is different from 3)"
     ]
    }
   ],
   "source": [
    "# (11)\n",
    "(v.T)@w"
   ]
  },
  {
   "cell_type": "code",
   "execution_count": 11,
   "metadata": {},
   "outputs": [
    {
     "data": {
      "text/plain": [
       "array([[16]])"
      ]
     },
     "execution_count": 11,
     "metadata": {},
     "output_type": "execute_result"
    }
   ],
   "source": [
    "# (12)\n",
    "(v.T)@u"
   ]
  },
  {
   "cell_type": "code",
   "execution_count": 12,
   "metadata": {},
   "outputs": [
    {
     "data": {
      "text/plain": [
       "array([[20],\n",
       "       [24],\n",
       "       [16]])"
      ]
     },
     "execution_count": 12,
     "metadata": {},
     "output_type": "execute_result"
    }
   ],
   "source": [
    "# (13)\n",
    "M@w"
   ]
  },
  {
   "cell_type": "code",
   "execution_count": 13,
   "metadata": {},
   "outputs": [
    {
     "data": {
      "text/plain": [
       "array([[ 8,  8],\n",
       "       [12, 12],\n",
       "       [ 4,  4]])"
      ]
     },
     "execution_count": 13,
     "metadata": {},
     "output_type": "execute_result"
    }
   ],
   "source": [
    "# (14)\n",
    "u@(w.T)"
   ]
  },
  {
   "cell_type": "code",
   "execution_count": 14,
   "metadata": {},
   "outputs": [
    {
     "data": {
      "text/plain": [
       "array([[77]])"
      ]
     },
     "execution_count": 14,
     "metadata": {},
     "output_type": "execute_result"
    }
   ],
   "source": [
    "# (15)\n",
    "(v.T)@(L@u)"
   ]
  },
  {
   "cell_type": "code",
   "execution_count": 15,
   "metadata": {},
   "outputs": [
    {
     "data": {
      "text/plain": [
       "array([[-6, -5]])"
      ]
     },
     "execution_count": 15,
     "metadata": {},
     "output_type": "execute_result"
    }
   ],
   "source": [
    "# (16)\n",
    "((u-v).T)@M"
   ]
  },
  {
   "cell_type": "code",
   "execution_count": 16,
   "metadata": {},
   "outputs": [
    {
     "name": "stdout",
     "output_type": "stream",
     "text": [
      "12.74165738677394\n"
     ]
    },
    {
     "data": {
      "text/plain": [
       "12.74165738677394"
      ]
     },
     "execution_count": 16,
     "metadata": {},
     "output_type": "execute_result"
    }
   ],
   "source": [
    "# (17)\n",
    "print( 9 + math.sqrt(14) )\n",
    "np.linalg.norm(u,2) + np.linalg.norm(u,1) + np.linalg.norm(u,np.inf)"
   ]
  },
  {
   "cell_type": "code",
   "execution_count": 17,
   "metadata": {},
   "outputs": [
    {
     "data": {
      "text/plain": [
       "array([[ 1.33333333, -0.66666667],\n",
       "       [-0.66666667,  1.33333333]])"
      ]
     },
     "execution_count": 17,
     "metadata": {},
     "output_type": "execute_result"
    }
   ],
   "source": [
    "# (18)\n",
    "np.linalg.inv(R)"
   ]
  },
  {
   "cell_type": "code",
   "execution_count": 18,
   "metadata": {},
   "outputs": [
    {
     "data": {
      "text/plain": [
       "array([1.5, 0.5])"
      ]
     },
     "execution_count": 18,
     "metadata": {},
     "output_type": "execute_result"
    }
   ],
   "source": [
    "# (19)\n",
    "evals, evects = np.linalg.eig(R)\n",
    "evals"
   ]
  },
  {
   "cell_type": "code",
   "execution_count": 19,
   "metadata": {},
   "outputs": [
    {
     "name": "stdout",
     "output_type": "stream",
     "text": [
      "[1. 1.]\n"
     ]
    },
    {
     "data": {
      "text/plain": [
       "array([1.5, 1.5])"
      ]
     },
     "execution_count": 19,
     "metadata": {},
     "output_type": "execute_result"
    }
   ],
   "source": [
    "# (20) \n",
    "# Any nonzero multiple of an eigenvector is also an eigenvector\n",
    "myEvect = math.sqrt(2) * evects[1]\n",
    "print( myEvect )\n",
    "R@myEvect"
   ]
  },
  {
   "cell_type": "code",
   "execution_count": null,
   "metadata": {},
   "outputs": [],
   "source": []
  }
 ],
 "metadata": {
  "@webio": {
   "lastCommId": null,
   "lastKernelId": null
  },
  "kernelspec": {
   "display_name": "Python 3",
   "language": "python",
   "name": "python3"
  },
  "language_info": {
   "codemirror_mode": {
    "name": "ipython",
    "version": 3
   },
   "file_extension": ".py",
   "mimetype": "text/x-python",
   "name": "python",
   "nbconvert_exporter": "python",
   "pygments_lexer": "ipython3",
   "version": "3.7.4"
  }
 },
 "nbformat": 4,
 "nbformat_minor": 4
}
